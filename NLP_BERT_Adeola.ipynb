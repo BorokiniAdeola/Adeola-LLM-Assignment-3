{
  "nbformat": 4,
  "nbformat_minor": 0,
  "metadata": {
    "colab": {
      "provenance": [],
      "gpuType": "T4"
    },
    "kernelspec": {
      "name": "python3",
      "display_name": "Python 3"
    },
    "language_info": {
      "name": "python"
    },
    "accelerator": "GPU"
  },
  "cells": [
    {
      "cell_type": "markdown",
      "source": [
        " # 1.0 Introduction\n",
        "E-commerce platforms heavily rely on customer feedback, with product reviews playing a pivotal role in influencing purchasing decisions. However, manually analyzing the vast number of reviews generated each day can be a daunting task. Sentiment analysis, a key application of Natural Language Processing (NLP), offers an effective solution by automatically classifying reviews as positive or negative. This automation not only streamlines the process, saving considerable time, but also provides businesses with critical insights into customer satisfaction, highlights areas needing improvement, and informs product development strategies.\n",
        "\n",
        "In this project, I  harness the power of the BERT (Bidirectional Encoder Representations from Transformers) large language model to perform sentiment analysis on e-commerce product reviews. BERT excels at understanding the context within text, resulting in more precise sentiment classification. By fine-tuning BERT on a dataset of e-commerce reviews, we aim to build a robust model capable of accurately predicting the sentiment conveyed in customer feedback. This model will empower businesses to gain deeper insights into customer opinions, enabling them to make informed, data-driven decisions to enhance their products and services"
      ],
      "metadata": {
        "id": "Sbi-zAzPUuxX"
      }
    },
    {
      "cell_type": "code",
      "execution_count": null,
      "metadata": {
        "id": "UEg4PLm9YKQ9"
      },
      "outputs": [],
      "source": [
        "import tensorflow as tf\n",
        "import matplotlib.pyplot as plt\n",
        "from transformers import BertTokenizer, TFBertForSequenceClassification\n",
        "from sklearn.model_selection import train_test_split\n",
        "from sklearn.metrics import classification_report\n",
        "import pandas as pd\n",
        "import numpy as np\n",
        "from sklearn.preprocessing import LabelEncoder\n",
        "from tensorflow.keras.optimizers import Adam\n",
        "from tensorflow.keras.losses import SparseCategoricalCrossentropy"
      ]
    },
    {
      "cell_type": "code",
      "source": [
        "df = pd.read_csv(\"/content/ecommerce_data.csv\")"
      ],
      "metadata": {
        "id": "iDrdlY9BYQhI"
      },
      "execution_count": null,
      "outputs": []
    },
    {
      "cell_type": "code",
      "source": [
        "df"
      ],
      "metadata": {
        "colab": {
          "base_uri": "https://localhost:8080/",
          "height": 424
        },
        "id": "0-tV_5MV584O",
        "outputId": "970ebce2-0a56-4b8a-c2c8-fb0c8930cba9"
      },
      "execution_count": null,
      "outputs": [
        {
          "output_type": "execute_result",
          "data": {
            "text/plain": [
              "                                                  text  label\n",
              "0    Highly recommend this store. They have a wide ...      1\n",
              "1    Received a defective item and the return proce...      0\n",
              "2    Prompt delivery and good packaging. Happy with...      1\n",
              "3    Amazing product! It's exactly what I needed. H...      1\n",
              "4    The product broke after a few uses. Not durabl...      0\n",
              "..                                                 ...    ...\n",
              "109  The item arrived damaged and the replacement p...      0\n",
              "110  The item broke after a few uses. Poor quality ...      0\n",
              "111  Highly recommend this store. They have a wide ...      1\n",
              "112  The product arrived late and was damaged. Extr...      0\n",
              "113  The item arrived late and damaged. Extremely d...      0\n",
              "\n",
              "[114 rows x 2 columns]"
            ],
            "text/html": [
              "\n",
              "  <div id=\"df-acfc8fe9-a72f-48fa-a1cd-c74a4102ca0c\" class=\"colab-df-container\">\n",
              "    <div>\n",
              "<style scoped>\n",
              "    .dataframe tbody tr th:only-of-type {\n",
              "        vertical-align: middle;\n",
              "    }\n",
              "\n",
              "    .dataframe tbody tr th {\n",
              "        vertical-align: top;\n",
              "    }\n",
              "\n",
              "    .dataframe thead th {\n",
              "        text-align: right;\n",
              "    }\n",
              "</style>\n",
              "<table border=\"1\" class=\"dataframe\">\n",
              "  <thead>\n",
              "    <tr style=\"text-align: right;\">\n",
              "      <th></th>\n",
              "      <th>text</th>\n",
              "      <th>label</th>\n",
              "    </tr>\n",
              "  </thead>\n",
              "  <tbody>\n",
              "    <tr>\n",
              "      <th>0</th>\n",
              "      <td>Highly recommend this store. They have a wide ...</td>\n",
              "      <td>1</td>\n",
              "    </tr>\n",
              "    <tr>\n",
              "      <th>1</th>\n",
              "      <td>Received a defective item and the return proce...</td>\n",
              "      <td>0</td>\n",
              "    </tr>\n",
              "    <tr>\n",
              "      <th>2</th>\n",
              "      <td>Prompt delivery and good packaging. Happy with...</td>\n",
              "      <td>1</td>\n",
              "    </tr>\n",
              "    <tr>\n",
              "      <th>3</th>\n",
              "      <td>Amazing product! It's exactly what I needed. H...</td>\n",
              "      <td>1</td>\n",
              "    </tr>\n",
              "    <tr>\n",
              "      <th>4</th>\n",
              "      <td>The product broke after a few uses. Not durabl...</td>\n",
              "      <td>0</td>\n",
              "    </tr>\n",
              "    <tr>\n",
              "      <th>...</th>\n",
              "      <td>...</td>\n",
              "      <td>...</td>\n",
              "    </tr>\n",
              "    <tr>\n",
              "      <th>109</th>\n",
              "      <td>The item arrived damaged and the replacement p...</td>\n",
              "      <td>0</td>\n",
              "    </tr>\n",
              "    <tr>\n",
              "      <th>110</th>\n",
              "      <td>The item broke after a few uses. Poor quality ...</td>\n",
              "      <td>0</td>\n",
              "    </tr>\n",
              "    <tr>\n",
              "      <th>111</th>\n",
              "      <td>Highly recommend this store. They have a wide ...</td>\n",
              "      <td>1</td>\n",
              "    </tr>\n",
              "    <tr>\n",
              "      <th>112</th>\n",
              "      <td>The product arrived late and was damaged. Extr...</td>\n",
              "      <td>0</td>\n",
              "    </tr>\n",
              "    <tr>\n",
              "      <th>113</th>\n",
              "      <td>The item arrived late and damaged. Extremely d...</td>\n",
              "      <td>0</td>\n",
              "    </tr>\n",
              "  </tbody>\n",
              "</table>\n",
              "<p>114 rows × 2 columns</p>\n",
              "</div>\n",
              "    <div class=\"colab-df-buttons\">\n",
              "\n",
              "  <div class=\"colab-df-container\">\n",
              "    <button class=\"colab-df-convert\" onclick=\"convertToInteractive('df-acfc8fe9-a72f-48fa-a1cd-c74a4102ca0c')\"\n",
              "            title=\"Convert this dataframe to an interactive table.\"\n",
              "            style=\"display:none;\">\n",
              "\n",
              "  <svg xmlns=\"http://www.w3.org/2000/svg\" height=\"24px\" viewBox=\"0 -960 960 960\">\n",
              "    <path d=\"M120-120v-720h720v720H120Zm60-500h600v-160H180v160Zm220 220h160v-160H400v160Zm0 220h160v-160H400v160ZM180-400h160v-160H180v160Zm440 0h160v-160H620v160ZM180-180h160v-160H180v160Zm440 0h160v-160H620v160Z\"/>\n",
              "  </svg>\n",
              "    </button>\n",
              "\n",
              "  <style>\n",
              "    .colab-df-container {\n",
              "      display:flex;\n",
              "      gap: 12px;\n",
              "    }\n",
              "\n",
              "    .colab-df-convert {\n",
              "      background-color: #E8F0FE;\n",
              "      border: none;\n",
              "      border-radius: 50%;\n",
              "      cursor: pointer;\n",
              "      display: none;\n",
              "      fill: #1967D2;\n",
              "      height: 32px;\n",
              "      padding: 0 0 0 0;\n",
              "      width: 32px;\n",
              "    }\n",
              "\n",
              "    .colab-df-convert:hover {\n",
              "      background-color: #E2EBFA;\n",
              "      box-shadow: 0px 1px 2px rgba(60, 64, 67, 0.3), 0px 1px 3px 1px rgba(60, 64, 67, 0.15);\n",
              "      fill: #174EA6;\n",
              "    }\n",
              "\n",
              "    .colab-df-buttons div {\n",
              "      margin-bottom: 4px;\n",
              "    }\n",
              "\n",
              "    [theme=dark] .colab-df-convert {\n",
              "      background-color: #3B4455;\n",
              "      fill: #D2E3FC;\n",
              "    }\n",
              "\n",
              "    [theme=dark] .colab-df-convert:hover {\n",
              "      background-color: #434B5C;\n",
              "      box-shadow: 0px 1px 3px 1px rgba(0, 0, 0, 0.15);\n",
              "      filter: drop-shadow(0px 1px 2px rgba(0, 0, 0, 0.3));\n",
              "      fill: #FFFFFF;\n",
              "    }\n",
              "  </style>\n",
              "\n",
              "    <script>\n",
              "      const buttonEl =\n",
              "        document.querySelector('#df-acfc8fe9-a72f-48fa-a1cd-c74a4102ca0c button.colab-df-convert');\n",
              "      buttonEl.style.display =\n",
              "        google.colab.kernel.accessAllowed ? 'block' : 'none';\n",
              "\n",
              "      async function convertToInteractive(key) {\n",
              "        const element = document.querySelector('#df-acfc8fe9-a72f-48fa-a1cd-c74a4102ca0c');\n",
              "        const dataTable =\n",
              "          await google.colab.kernel.invokeFunction('convertToInteractive',\n",
              "                                                    [key], {});\n",
              "        if (!dataTable) return;\n",
              "\n",
              "        const docLinkHtml = 'Like what you see? Visit the ' +\n",
              "          '<a target=\"_blank\" href=https://colab.research.google.com/notebooks/data_table.ipynb>data table notebook</a>'\n",
              "          + ' to learn more about interactive tables.';\n",
              "        element.innerHTML = '';\n",
              "        dataTable['output_type'] = 'display_data';\n",
              "        await google.colab.output.renderOutput(dataTable, element);\n",
              "        const docLink = document.createElement('div');\n",
              "        docLink.innerHTML = docLinkHtml;\n",
              "        element.appendChild(docLink);\n",
              "      }\n",
              "    </script>\n",
              "  </div>\n",
              "\n",
              "\n",
              "<div id=\"df-884a0cfa-2159-43d6-992d-69893a4efd07\">\n",
              "  <button class=\"colab-df-quickchart\" onclick=\"quickchart('df-884a0cfa-2159-43d6-992d-69893a4efd07')\"\n",
              "            title=\"Suggest charts\"\n",
              "            style=\"display:none;\">\n",
              "\n",
              "<svg xmlns=\"http://www.w3.org/2000/svg\" height=\"24px\"viewBox=\"0 0 24 24\"\n",
              "     width=\"24px\">\n",
              "    <g>\n",
              "        <path d=\"M19 3H5c-1.1 0-2 .9-2 2v14c0 1.1.9 2 2 2h14c1.1 0 2-.9 2-2V5c0-1.1-.9-2-2-2zM9 17H7v-7h2v7zm4 0h-2V7h2v10zm4 0h-2v-4h2v4z\"/>\n",
              "    </g>\n",
              "</svg>\n",
              "  </button>\n",
              "\n",
              "<style>\n",
              "  .colab-df-quickchart {\n",
              "      --bg-color: #E8F0FE;\n",
              "      --fill-color: #1967D2;\n",
              "      --hover-bg-color: #E2EBFA;\n",
              "      --hover-fill-color: #174EA6;\n",
              "      --disabled-fill-color: #AAA;\n",
              "      --disabled-bg-color: #DDD;\n",
              "  }\n",
              "\n",
              "  [theme=dark] .colab-df-quickchart {\n",
              "      --bg-color: #3B4455;\n",
              "      --fill-color: #D2E3FC;\n",
              "      --hover-bg-color: #434B5C;\n",
              "      --hover-fill-color: #FFFFFF;\n",
              "      --disabled-bg-color: #3B4455;\n",
              "      --disabled-fill-color: #666;\n",
              "  }\n",
              "\n",
              "  .colab-df-quickchart {\n",
              "    background-color: var(--bg-color);\n",
              "    border: none;\n",
              "    border-radius: 50%;\n",
              "    cursor: pointer;\n",
              "    display: none;\n",
              "    fill: var(--fill-color);\n",
              "    height: 32px;\n",
              "    padding: 0;\n",
              "    width: 32px;\n",
              "  }\n",
              "\n",
              "  .colab-df-quickchart:hover {\n",
              "    background-color: var(--hover-bg-color);\n",
              "    box-shadow: 0 1px 2px rgba(60, 64, 67, 0.3), 0 1px 3px 1px rgba(60, 64, 67, 0.15);\n",
              "    fill: var(--button-hover-fill-color);\n",
              "  }\n",
              "\n",
              "  .colab-df-quickchart-complete:disabled,\n",
              "  .colab-df-quickchart-complete:disabled:hover {\n",
              "    background-color: var(--disabled-bg-color);\n",
              "    fill: var(--disabled-fill-color);\n",
              "    box-shadow: none;\n",
              "  }\n",
              "\n",
              "  .colab-df-spinner {\n",
              "    border: 2px solid var(--fill-color);\n",
              "    border-color: transparent;\n",
              "    border-bottom-color: var(--fill-color);\n",
              "    animation:\n",
              "      spin 1s steps(1) infinite;\n",
              "  }\n",
              "\n",
              "  @keyframes spin {\n",
              "    0% {\n",
              "      border-color: transparent;\n",
              "      border-bottom-color: var(--fill-color);\n",
              "      border-left-color: var(--fill-color);\n",
              "    }\n",
              "    20% {\n",
              "      border-color: transparent;\n",
              "      border-left-color: var(--fill-color);\n",
              "      border-top-color: var(--fill-color);\n",
              "    }\n",
              "    30% {\n",
              "      border-color: transparent;\n",
              "      border-left-color: var(--fill-color);\n",
              "      border-top-color: var(--fill-color);\n",
              "      border-right-color: var(--fill-color);\n",
              "    }\n",
              "    40% {\n",
              "      border-color: transparent;\n",
              "      border-right-color: var(--fill-color);\n",
              "      border-top-color: var(--fill-color);\n",
              "    }\n",
              "    60% {\n",
              "      border-color: transparent;\n",
              "      border-right-color: var(--fill-color);\n",
              "    }\n",
              "    80% {\n",
              "      border-color: transparent;\n",
              "      border-right-color: var(--fill-color);\n",
              "      border-bottom-color: var(--fill-color);\n",
              "    }\n",
              "    90% {\n",
              "      border-color: transparent;\n",
              "      border-bottom-color: var(--fill-color);\n",
              "    }\n",
              "  }\n",
              "</style>\n",
              "\n",
              "  <script>\n",
              "    async function quickchart(key) {\n",
              "      const quickchartButtonEl =\n",
              "        document.querySelector('#' + key + ' button');\n",
              "      quickchartButtonEl.disabled = true;  // To prevent multiple clicks.\n",
              "      quickchartButtonEl.classList.add('colab-df-spinner');\n",
              "      try {\n",
              "        const charts = await google.colab.kernel.invokeFunction(\n",
              "            'suggestCharts', [key], {});\n",
              "      } catch (error) {\n",
              "        console.error('Error during call to suggestCharts:', error);\n",
              "      }\n",
              "      quickchartButtonEl.classList.remove('colab-df-spinner');\n",
              "      quickchartButtonEl.classList.add('colab-df-quickchart-complete');\n",
              "    }\n",
              "    (() => {\n",
              "      let quickchartButtonEl =\n",
              "        document.querySelector('#df-884a0cfa-2159-43d6-992d-69893a4efd07 button');\n",
              "      quickchartButtonEl.style.display =\n",
              "        google.colab.kernel.accessAllowed ? 'block' : 'none';\n",
              "    })();\n",
              "  </script>\n",
              "</div>\n",
              "\n",
              "  <div id=\"id_f6ec1060-ff10-4584-b7ce-13f2de9b0e3a\">\n",
              "    <style>\n",
              "      .colab-df-generate {\n",
              "        background-color: #E8F0FE;\n",
              "        border: none;\n",
              "        border-radius: 50%;\n",
              "        cursor: pointer;\n",
              "        display: none;\n",
              "        fill: #1967D2;\n",
              "        height: 32px;\n",
              "        padding: 0 0 0 0;\n",
              "        width: 32px;\n",
              "      }\n",
              "\n",
              "      .colab-df-generate:hover {\n",
              "        background-color: #E2EBFA;\n",
              "        box-shadow: 0px 1px 2px rgba(60, 64, 67, 0.3), 0px 1px 3px 1px rgba(60, 64, 67, 0.15);\n",
              "        fill: #174EA6;\n",
              "      }\n",
              "\n",
              "      [theme=dark] .colab-df-generate {\n",
              "        background-color: #3B4455;\n",
              "        fill: #D2E3FC;\n",
              "      }\n",
              "\n",
              "      [theme=dark] .colab-df-generate:hover {\n",
              "        background-color: #434B5C;\n",
              "        box-shadow: 0px 1px 3px 1px rgba(0, 0, 0, 0.15);\n",
              "        filter: drop-shadow(0px 1px 2px rgba(0, 0, 0, 0.3));\n",
              "        fill: #FFFFFF;\n",
              "      }\n",
              "    </style>\n",
              "    <button class=\"colab-df-generate\" onclick=\"generateWithVariable('df')\"\n",
              "            title=\"Generate code using this dataframe.\"\n",
              "            style=\"display:none;\">\n",
              "\n",
              "  <svg xmlns=\"http://www.w3.org/2000/svg\" height=\"24px\"viewBox=\"0 0 24 24\"\n",
              "       width=\"24px\">\n",
              "    <path d=\"M7,19H8.4L18.45,9,17,7.55,7,17.6ZM5,21V16.75L18.45,3.32a2,2,0,0,1,2.83,0l1.4,1.43a1.91,1.91,0,0,1,.58,1.4,1.91,1.91,0,0,1-.58,1.4L9.25,21ZM18.45,9,17,7.55Zm-12,3A5.31,5.31,0,0,0,4.9,8.1,5.31,5.31,0,0,0,1,6.5,5.31,5.31,0,0,0,4.9,4.9,5.31,5.31,0,0,0,6.5,1,5.31,5.31,0,0,0,8.1,4.9,5.31,5.31,0,0,0,12,6.5,5.46,5.46,0,0,0,6.5,12Z\"/>\n",
              "  </svg>\n",
              "    </button>\n",
              "    <script>\n",
              "      (() => {\n",
              "      const buttonEl =\n",
              "        document.querySelector('#id_f6ec1060-ff10-4584-b7ce-13f2de9b0e3a button.colab-df-generate');\n",
              "      buttonEl.style.display =\n",
              "        google.colab.kernel.accessAllowed ? 'block' : 'none';\n",
              "\n",
              "      buttonEl.onclick = () => {\n",
              "        google.colab.notebook.generateWithVariable('df');\n",
              "      }\n",
              "      })();\n",
              "    </script>\n",
              "  </div>\n",
              "\n",
              "    </div>\n",
              "  </div>\n"
            ],
            "application/vnd.google.colaboratory.intrinsic+json": {
              "type": "dataframe",
              "variable_name": "df",
              "summary": "{\n  \"name\": \"df\",\n  \"rows\": 114,\n  \"fields\": [\n    {\n      \"column\": \"text\",\n      \"properties\": {\n        \"dtype\": \"string\",\n        \"num_unique_values\": 69,\n        \"samples\": [\n          \"The delivery was delayed without notice. Frustrated with the delay.\",\n          \"Highly recommend this store. They have a wide range of products.\",\n          \"Excellent product! Works as advertised. Would buy again.\"\n        ],\n        \"semantic_type\": \"\",\n        \"description\": \"\"\n      }\n    },\n    {\n      \"column\": \"label\",\n      \"properties\": {\n        \"dtype\": \"number\",\n        \"std\": 0,\n        \"min\": 0,\n        \"max\": 1,\n        \"num_unique_values\": 2,\n        \"samples\": [\n          0,\n          1\n        ],\n        \"semantic_type\": \"\",\n        \"description\": \"\"\n      }\n    }\n  ]\n}"
            }
          },
          "metadata": {},
          "execution_count": 65
        }
      ]
    },
    {
      "cell_type": "markdown",
      "source": [
        "# 2.0 Methodology\n",
        "Our approach utilizes the BERT large language model, a transformer-based architecture pre-trained on a massive corpus of text and code. BERT's key innovation is its bidirectional training, allowing it to consider the context of a word from both directions, resulting in a richer understanding of language. We employ the `TFBertForSequenceClassification` model from the Hugging Face Transformers library, which is specifically designed for classifying sequences of text into predefined categories.\n",
        "\n",
        "The dataset used for this project consists of e-commerce product reviews labeled as either positive or negative. We perform preprocessing steps, including converting labels to numerical representations using `LabelEncoder`. To prepare the text data for BERT, we utilize the `BertTokenizer` to convert the reviews into numerical tokens that the model can understand. This involves adding special tokens, truncating or padding sequences to a fixed length, and creating attention masks to indicate which tokens are relevant.\n",
        "\n",
        "For model training, we split the dataset into training and testing sets. The training set is used to fine-tune the pre-trained BERT model, while the testing set evaluates its performance on unseen data. We employ TensorFlow Datasets to efficiently manage and batch the data for training."
      ],
      "metadata": {
        "id": "KiF36DjkU94B"
      }
    },
    {
      "cell_type": "code",
      "source": [
        "# Take only Text and label columns from dataset\n",
        "df = df[['label', 'text']]\n",
        "df"
      ],
      "metadata": {
        "id": "NuzAAYijcZ1M"
      },
      "execution_count": null,
      "outputs": []
    },
    {
      "cell_type": "code",
      "source": [
        "# Check if the 'label' column contains both 'positive' and 'negative' values\n",
        "unique_labels = df['label'].unique()\n",
        "if 'positive' in unique_labels and 'negative' in unique_labels and len(unique_labels) == 2:\n",
        "    # Replace 'positive' with 1 and 'negative' with 0 in the 'label' column\n",
        "    df['label'] = df['label'].replace({'positive': 1, 'negative': 0})\n",
        "\n",
        "# Drop rows where the 'text' column has missing values\n",
        "df = df[df['text'].notna()]\n",
        "\n",
        "# Display the first few rows of the cleaned DataFrame\n",
        "df.head()"
      ],
      "metadata": {
        "id": "wlOTXdQHd_sR"
      },
      "execution_count": null,
      "outputs": []
    },
    {
      "cell_type": "code",
      "source": [
        "# Extract the 'text' column as a string series\n",
        "X = df['text'].apply(str)\n",
        "\n",
        "# Extract the 'label' column as an integer series\n",
        "y = pd.to_numeric(df['label'], downcast='integer')"
      ],
      "metadata": {
        "id": "wf56NBiXYQeP"
      },
      "execution_count": null,
      "outputs": []
    },
    {
      "cell_type": "code",
      "source": [
        "# Manually map the unique labels to integers and replace in y\n",
        "label_mapping = {label: idx for idx, label in enumerate(sorted(y.unique()))}\n",
        "y = y.map(label_mapping).values"
      ],
      "metadata": {
        "id": "s9DCKM1HCFcd"
      },
      "execution_count": null,
      "outputs": []
    },
    {
      "cell_type": "code",
      "source": [
        "# Load the pre-trained BERT tokenizer\n",
        "\n",
        "# Initialize the BERT tokenizer with the 'bert-base-uncased' model and enable lowercasing\n",
        "from transformers import AutoTokenizer\n",
        "\n",
        "tokenizer = AutoTokenizer.from_pretrained('bert-base-uncased', use_fast=True, do_lower_case=True)"
      ],
      "metadata": {
        "id": "4llqACo2CGeh"
      },
      "execution_count": null,
      "outputs": []
    },
    {
      "cell_type": "code",
      "source": [
        "# Tokenize the text and convert them into input features using list comprehension\n",
        "encoded_features = [\n",
        "    tokenizer.encode_plus(\n",
        "        text,\n",
        "        add_special_tokens=True,\n",
        "        max_length=128,\n",
        "        padding='max_length',\n",
        "        truncation=True,\n",
        "        return_attention_mask=True,\n",
        "        return_tensors='tf'\n",
        "    )\n",
        "    for text in X\n",
        "]\n",
        "\n",
        "# Extract input_ids and attention_masks from the encoded features\n",
        "input_ids = [feature['input_ids'] for feature in encoded_features]\n",
        "attention_masks = [feature['attention_mask'] for feature in encoded_features]"
      ],
      "metadata": {
        "id": "OZopPEeFCGbV"
      },
      "execution_count": null,
      "outputs": []
    },
    {
      "cell_type": "code",
      "source": [
        "# Convert lists to tensors directly using tf.convert_to_tensor\n",
        "input_ids = tf.convert_to_tensor(input_ids)\n",
        "attention_masks = tf.convert_to_tensor(attention_masks)"
      ],
      "metadata": {
        "id": "HawA5LAiCGZQ"
      },
      "execution_count": null,
      "outputs": []
    },
    {
      "cell_type": "markdown",
      "source": [
        "#3.0 Training and Fine Tuning\n",
        "\n",
        "I fine-tune the pre-trained BERT model on our e-commerce dataset using the training set. The model is compiled with the Adam optimizer and a sparse categorical cross-entropy loss function. During training, the model processes batches of tokenized reviews along with their corresponding labels, iteratively adjusting its weights to minimize prediction errors.\n",
        "\n",
        "To ensure effective training and to mitigate overfitting, the model’s performance is evaluated on the test set after each epoch. We track key metrics, such as accuracy and loss, to assess how well the model generalizes to new, unseen data. The training process is carried out over a fixed number of epochs, with careful monitoring of the validation metrics to determine the optimal point to stop training.\n"
      ],
      "metadata": {
        "id": "WvduKXzUVFMu"
      }
    },
    {
      "cell_type": "code",
      "source": [
        "# Convert to NumPy arrays using .numpy() method\n",
        "X_np = input_ids.numpy()\n",
        "y_np = y.to_numpy()"
      ],
      "metadata": {
        "id": "x0-vFBYACGWR"
      },
      "execution_count": null,
      "outputs": []
    },
    {
      "cell_type": "code",
      "source": [
        "# Split the data into training and testing sets\n",
        "splitter = StratifiedShuffleSplit(n_splits=1, test_size=0.2, random_state=42)\n",
        "train_idx, test_idx = next(splitter.split(X_np, y_np))\n",
        "\n",
        "X_train, X_test = X_np[train_idx], X_np[test_idx]\n",
        "y_train, y_test = y_np[train_idx], y_np[test_idx]"
      ],
      "metadata": {
        "id": "_q32pGbpCGUo"
      },
      "execution_count": null,
      "outputs": []
    },
    {
      "cell_type": "code",
      "source": [
        "# Create TensorFlow Datasets\n",
        "train_dataset = tf.data.Dataset.zip((tf.data.Dataset.from_tensor_slices(X_train), tf.data.Dataset.from_tensor_slices(y_train)))\n",
        "test_dataset = tf.data.Dataset.zip((tf.data.Dataset.from_tensor_slices(X_test), tf.data.Dataset.from_tensor_slices(y_test)))\n"
      ],
      "metadata": {
        "id": "BrOLDwKaCWZy"
      },
      "execution_count": null,
      "outputs": []
    },
    {
      "cell_type": "code",
      "source": [
        "# Batch the data and shuffle\n",
        "batch_size = 32\n",
        "train_dataset = train_dataset.cache().shuffle(buffer_size=len(X_train)).batch(batch_size).prefetch(tf.data.AUTOTUNE)\n",
        "test_dataset = test_dataset.cache().batch(batch_size).prefetch(tf.data.AUTOTUNE)\n"
      ],
      "metadata": {
        "id": "DQCLYbMtCWWz"
      },
      "execution_count": null,
      "outputs": []
    },
    {
      "cell_type": "code",
      "source": [
        "# Load pre-trained BERT model for sequence classification using a different approach\n",
        "from transformers import AutoModelForSequenceClassification\n",
        "\n",
        "model = AutoModelForSequenceClassification.from_pretrained('bert-base-uncased', num_labels=5, return_dict=True)\n"
      ],
      "metadata": {
        "colab": {
          "base_uri": "https://localhost:8080/"
        },
        "id": "pI1P1vnVCWUA",
        "outputId": "72b4a7fd-f49a-44d5-8ad4-216fcc01fa91"
      },
      "execution_count": null,
      "outputs": [
        {
          "output_type": "stream",
          "name": "stderr",
          "text": [
            "All PyTorch model weights were used when initializing TFBertForSequenceClassification.\n",
            "\n",
            "Some weights or buffers of the TF 2.0 model TFBertForSequenceClassification were not initialized from the PyTorch model and are newly initialized: ['classifier.weight', 'classifier.bias']\n",
            "You should probably TRAIN this model on a down-stream task to be able to use it for predictions and inference.\n"
          ]
        }
      ]
    },
    {
      "cell_type": "code",
      "source": [
        "# Set up optimizer and loss function using a different approach\n",
        "optimizer = Adam(learning_rate=2e-5)\n",
        "loss = SparseCategoricalCrossentropy(from_logits=True)"
      ],
      "metadata": {
        "id": "d4xvls9cCWSN"
      },
      "execution_count": null,
      "outputs": []
    },
    {
      "cell_type": "code",
      "source": [
        "# Compile the model with a different approach\n",
        "model.compile(optimizer=optimizer, loss=loss, metrics=[tf.keras.metrics.SparseCategoricalAccuracy()])"
      ],
      "metadata": {
        "id": "sN-lKJCQCf1W"
      },
      "execution_count": null,
      "outputs": []
    },
    {
      "cell_type": "code",
      "source": [
        "# Train the model with hyperparameter tuning\n",
        "training_epochs = 5\n",
        "training_history = model.fit(\n",
        "    train_dataset,\n",
        "    validation_data=test_dataset,\n",
        "    epochs=training_epochs,\n",
        "    verbose=1,\n",
        "    callbacks=[]\n",
        ")\n"
      ],
      "metadata": {
        "colab": {
          "base_uri": "https://localhost:8080/"
        },
        "id": "AF3kjgpfCfyW",
        "outputId": "221f3504-1b20-45b8-8b73-f6b3e8e4514b"
      },
      "execution_count": null,
      "outputs": [
        {
          "output_type": "stream",
          "name": "stdout",
          "text": [
            "Epoch 1/5\n",
            "3/3 [==============================] - 51s 3s/step - loss: 1.4015 - accuracy: 0.3846 - val_loss: 1.1058 - val_accuracy: 0.9130\n",
            "Epoch 2/5\n",
            "3/3 [==============================] - 3s 936ms/step - loss: 1.1398 - accuracy: 0.5714 - val_loss: 0.9542 - val_accuracy: 0.8696\n",
            "Epoch 3/5\n",
            "3/3 [==============================] - 3s 940ms/step - loss: 1.0422 - accuracy: 0.6154 - val_loss: 1.0111 - val_accuracy: 0.4348\n",
            "Epoch 4/5\n",
            "3/3 [==============================] - 3s 944ms/step - loss: 0.9465 - accuracy: 0.6044 - val_loss: 0.8523 - val_accuracy: 0.6522\n",
            "Epoch 5/5\n",
            "3/3 [==============================] - 3s 951ms/step - loss: 0.9024 - accuracy: 0.5934 - val_loss: 0.7572 - val_accuracy: 0.8696\n"
          ]
        }
      ]
    },
    {
      "cell_type": "code",
      "source": [
        "# Evaluate the model on test data\n",
        "test_results = model.evaluate(test_dataset)\n",
        "test_loss, test_accuracy = test_results[0], test_results[1]\n",
        "print(f\"Test Accuracy: {test_accuracy * 100:.2f}%\")"
      ],
      "metadata": {
        "colab": {
          "base_uri": "https://localhost:8080/"
        },
        "id": "XRLlOuLP74P8",
        "outputId": "c6226b6e-e367-40a8-a88f-2c4c9b479715"
      },
      "execution_count": null,
      "outputs": [
        {
          "output_type": "stream",
          "name": "stdout",
          "text": [
            "1/1 [==============================] - 0s 215ms/step - loss: 0.7572 - accuracy: 0.8696\n",
            "Test Accuracy: 86.96%\n"
          ]
        }
      ]
    },
    {
      "cell_type": "markdown",
      "source": [
        "# 4.0 Deployment\n",
        "After training and evaluating the model, it can be deployed for practical, real-world applications. To demonstrate a straightforward deployment, we use ipywidgets to create an interactive interface that allows users to input a product review into a text box. When a user enters a review, the text is automatically tokenized using the same BertTokenizer that was employed during the training phase. This ensures consistency in how the text data is processed.\n",
        "\n",
        "The tokenized input is then passed to the trained BERT model, which generates an output in the form of logits. These logits represent the model's raw predictions and are subsequently processed to determine the predicted class, indicating whether the review is positive or negative. Additionally, the logits are converted into probabilities, providing a measure of confidence in the prediction.\n",
        "\n",
        "The result is then presented to the user, offering an immediate sentiment classification of the entered review along with the probability score. This interactive setup not only showcases the model’s ability to classify sentiment in real-time but also provides users with an intuitive understanding of the underlying sentiment behind their product reviews."
      ],
      "metadata": {
        "id": "iUmzjss0VKJX"
      }
    },
    {
      "cell_type": "code",
      "source": [
        "# Prepare the input for prediction\n",
        "input_text = ['The item was not as advertised. Very disappointed with the purchase']\n",
        "tokenized_input = tokenizer(input_text, padding=True, truncation=True, return_tensors='tf')\n",
        "prediction = model(tokenized_input)\n",
        "\n",
        "# Obtain the predicted output\n",
        "predicted_output = prediction.logits"
      ],
      "metadata": {
        "id": "MrAVQRXoYQHX",
        "colab": {
          "base_uri": "https://localhost:8080/"
        },
        "outputId": "7f0a39a7-e765-4f70-c758-587ee8a3577b"
      },
      "execution_count": null,
      "outputs": [
        {
          "output_type": "stream",
          "name": "stdout",
          "text": [
            "1/1 [==============================] - 3s 3s/step\n"
          ]
        },
        {
          "output_type": "execute_result",
          "data": {
            "text/plain": [
              "TFSequenceClassifierOutput(loss=None, logits=array([[ 0.384972  , -0.37802076,  0.20654261, -0.52740735,  0.21619365]],\n",
              "      dtype=float32), hidden_states=None, attentions=None)"
            ]
          },
          "metadata": {},
          "execution_count": 48
        }
      ]
    },
    {
      "source": [
        "# Obtain predictions from the model\n",
        "predictions = model(input)\n",
        "logits = predictions.logits\n",
        "predicted_class = tf.math.argmax(logits, axis=1).numpy()\n",
        "\n",
        "# Interpret the predicted class\n",
        "sentiment = 'positive' if predicted_class[0] == 1 else 'negative'\n",
        "print(sentiment)"
      ],
      "cell_type": "code",
      "metadata": {
        "colab": {
          "base_uri": "https://localhost:8080/"
        },
        "id": "sVxoSgfqJ6kz",
        "outputId": "17041fa2-8128-4de3-ac22-bf659eca0844"
      },
      "execution_count": null,
      "outputs": [
        {
          "output_type": "stream",
          "name": "stdout",
          "text": [
            "1/1 [==============================] - 0s 47ms/step\n",
            "negative\n"
          ]
        }
      ]
    },
    {
      "cell_type": "code",
      "source": [
        "# Plotting the training and validation accuracy\n",
        "fig, ax = plt.subplots()\n",
        "ax.plot(history.history['accuracy'], label='Training Accuracy')\n",
        "ax.plot(history.history['val_accuracy'], label='Validation Accuracy')\n",
        "ax.set_title('Model Accuracy Over Epochs')\n",
        "ax.set_ylabel('Accuracy')\n",
        "ax.set_xlabel('Epoch')\n",
        "ax.legend(loc='upper left')\n",
        "plt.show()"
      ],
      "metadata": {
        "colab": {
          "base_uri": "https://localhost:8080/",
          "height": 472
        },
        "id": "PFiTV00ZQmqi",
        "outputId": "6cf1c02d-db10-4a94-f336-b212cd73aa05"
      },
      "execution_count": null,
      "outputs": [
        {
          "output_type": "display_data",
          "data": {
            "text/plain": [
              "<Figure size 640x480 with 1 Axes>"
            ],
            "image/png": "[encoded data removed]"
          },
          "metadata": {}
        }
      ]
    },
    {
      "cell_type": "code",
      "source": [
        "# Plotting the training and validation loss\n",
        "plt.figure(figsize=(8, 6))\n",
        "plt.plot(history.history['loss'], label='Training Loss', linestyle='-', marker='o')\n",
        "plt.plot(history.history['val_loss'], label='Validation Loss', linestyle='--', marker='x')\n",
        "plt.title('Training and Validation Loss')\n",
        "plt.ylabel('Loss')\n",
        "plt.xlabel('Epoch')\n",
        "plt.legend(loc='best')\n",
        "plt.grid(True)\n",
        "plt.show()\n"
      ],
      "metadata": {
        "colab": {
          "base_uri": "https://localhost:8080/",
          "height": 472
        },
        "id": "1dlB9bocQokN",
        "outputId": "7337d5e4-9efb-44e1-daab-bd0e5139c07e"
      },
      "execution_count": null,
      "outputs": [
        {
          "output_type": "display_data",
          "data": {
            "text/plain": [
              "<Figure size 640x480 with 1 Axes>"
            ],
            "image/png": "[encoded data removed]"
          },
          "metadata": {}
        }
      ]
    },
    {
      "cell_type": "code",
      "source": [],
      "metadata": {
        "id": "PgJQNsxdQdOn"
      },
      "execution_count": null,
      "outputs": []
    },
    {
      "cell_type": "markdown",
      "source": [
        "# 5.0 Conclusion\n",
        "This project highlights the power of fine-tuning a pre-trained BERT (Bidirectional Encoder Representations from Transformers) model for sentiment analysis, specifically applied to e-commerce product reviews. BERT's architecture excels at understanding the context and nuances of language, enabling it to accurately classify sentiments as positive or negative based on the content of the reviews. This capability is particularly valuable for businesses, as it allows them to gain deeper insights into customer opinions and feedback, ultimately aiding in decision-making and strategy development.\n",
        "\n",
        "The process of fine-tuning BERT involves adapting the model to the specific task of sentiment analysis by training it on a dataset of labeled product reviews. While this approach yields highly accurate results, it is important to acknowledge the challenges associated with fine-tuning large language models like BERT. The process is computationally demanding, often requiring high-performance hardware, such as GPUs or TPUs, as well as considerable time to achieve optimal results. This computational intensity can be a barrier for some applications, particularly in scenarios where resources are limited.\n",
        "\n",
        "Looking ahead, there are several avenues for future work that could address the challenges of fine-tuning and further enhance the model's performance. One potential direction is the exploration of techniques like knowledge distillation, where a smaller, more efficient model is trained to replicate the performance of the larger BERT model. This approach can significantly reduce the computational requirements while maintaining a high level of accuracy.\n"
      ],
      "metadata": {
        "id": "B_wrwjhVVN63"
      }
    },
    {
      "cell_type": "code",
      "source": [],
      "metadata": {
        "id": "A8_z7jtHWSSi"
      },
      "execution_count": null,
      "outputs": []
    }
  ]
}